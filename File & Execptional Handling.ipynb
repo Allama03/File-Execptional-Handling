{
 "cells": [
  {
   "cell_type": "markdown",
   "id": "242e4a3f-e1fd-4a37-a007-ca4e01fa9981",
   "metadata": {},
   "source": [
    "## File & Execptional Handling"
   ]
  },
  {
   "cell_type": "markdown",
   "id": "d01603f7-bf50-4fdd-b090-15f0617fa6a4",
   "metadata": {},
   "source": [
    "### Theoretical Question"
   ]
  },
  {
   "cell_type": "markdown",
   "id": "cc49ac1d-11b6-43c4-9c6c-a1977ca34776",
   "metadata": {},
   "source": [
    "1. #### What is the difference between interpreted and compiled languages?\n",
    "   ##### Compiled Languages:\n",
    "   - These require a separate step where the entire code is converted into machine language before it can run. This produces an executable file that the        computer can directly understand. Since compilation happens beforehand, compiled programs tend to run faster. Examples include C, C++, and Rust.\n",
    "   ##### Interpreted Languages:\n",
    "   - These are executed line by line by an interpreter at runtime, meaning there’s no separate compilation step. Since the code runs directly without being compiled into machine language beforehand, interpreted languages are generally slower but provide more flexibility for debugging and dynamic execution. Examples include Python, JavaScript, and Ruby."
   ]
  },
  {
   "cell_type": "markdown",
   "id": "9f969c7a-7de0-46c1-972f-8a3146aafc30",
   "metadata": {},
   "source": [
    "2. #### What is exception handling in Python?\n",
    "   - Exception handling in Python is a mechanism that allows you to gracefully handle runtime errors or unexpected conditions in your code, preventing       the program from crashing. It uses a combination of try, except, else, and finally blocks to catch and respond to exceptions."
   ]
  },
  {
   "cell_type": "markdown",
   "id": "dc0d8a6d-8fb1-4375-bf21-9db85eb4ed81",
   "metadata": {},
   "source": [
    "3. #### What is the purpose of the finally block in exception handling?\n",
    "    - The purpose of the finally block in exception handling is to ensure that specific code is executed regardless of whether an exception was raised or not. It is typically used for tasks like releasing resources, closing files, or cleaning up after a code block, ensuring that no matter what happens, the program leaves things in a proper state."
   ]
  },
  {
   "cell_type": "markdown",
   "id": "67eff3c6-6537-4bc4-9bc1-5f2f4112bd62",
   "metadata": {},
   "source": [
    "4. #### What is logging in Python?\n",
    "   - Logging in Python is a way to track events that happen when your program runs. It helps developers record important information like errors, warnings, or debug messages for troubleshooting and monitoring the behavior of applications. Python provides a built-in logging module for this purpose, which allows you to manage log messages efficiently.\n"
   ]
  },
  {
   "cell_type": "markdown",
   "id": "337b8176-0108-4743-9f9f-a74cb902d748",
   "metadata": {},
   "source": [
    "5. ####  What is the significance of the __del__ method in Python?\n",
    "   - The __del__ method in Python is a special method known as the destructor. It is automatically called when an object is about to be destroyed, typically when it goes out of scope or is explicitly deleted using the del keyword. Its primary purpose is to allow for cleanup actions, such as releasing resources or closing connections, before the object is garbage collected."
   ]
  },
  {
   "cell_type": "markdown",
   "id": "7e1c0e51-11d0-483b-bed5-91aaadbd6081",
   "metadata": {},
   "source": [
    "6. #### What is the difference between import and from ... import in Python?\n",
    "   ##### import\n",
    "   - This statement imports an entire module into your script. You access the module's functions, classes, or variables by prefixing them with the           module name.\n",
    "   ##### from ... import\n",
    "   - This statement imports specific functions, classes, or variables directly from a module, allowing you to use them without the module prefix."
   ]
  },
  {
   "cell_type": "markdown",
   "id": "31b299a6-034e-42c2-a458-e2fc4935be52",
   "metadata": {},
   "source": [
    "7. #### How can you handle multiple exceptions in Python?\n",
    "   #####  Using Multiple except Blocks\n",
    "   - You can specify multiple except blocks to handle different types of exceptions separately:\n",
    "   #####  Using a Single except Block with Multiple Exception Types\n",
    "   - You can catch multiple exceptions in a single except block by grouping them in a tuple:\n",
    "   ##### Using a Generic except Block\n",
    "   - You can use a generic except Exception block to catch any exception, but this is not always recommended because it may hide unexpected errors.\n",
    "   ##### Using else and finally\n",
    "   - else: Executes if no exception occurs.\n",
    "\n",
    "   - finally: Always executes, whether an exception occurs or not."
   ]
  },
  {
   "cell_type": "markdown",
   "id": "ad303346-8102-40ab-a739-a1ddab56d374",
   "metadata": {},
   "source": [
    "8. #### What is the purpose of the with statement when handling files in Python?\n",
    "   - The with statement in Python is used for resource management, particularly when working with files. It ensures that the file is properly closed        after its suite (code block) finishes executing, even if an exception occurs.\n",
    "\n",
    "   ##### Purpose of the with Statement:\n",
    "   - Automatic Resource Management: It automatically closes the file when the block exits.\n",
    "\n",
    "   - Prevents Resource Leaks: Ensures that file handles are properly released, preventing memory leaks.\n",
    "\n",
    "   - Improves Readability: Eliminates the need for explicit close() calls, making code cleaner."
   ]
  },
  {
   "cell_type": "markdown",
   "id": "461bd450-23b4-453b-814c-d444b1011af1",
   "metadata": {},
   "source": [
    "9. #### What is the difference between multithreading and multiprocessing?\n",
    "    ##### Multithreading\n",
    "   - Uses threads (lightweight, share the same memory).\n",
    "\n",
    "   - Ideal for I/O-bound tasks (e.g., network requests, file I/O, database access).\n",
    "\n",
    "   - Limited by the Global Interpreter Lock (GIL) in Python, meaning only one thread executes Python bytecode at a time.\n",
    "\n",
    "   - Threads share memory, so they can communicate easily but require synchronization to avoid race conditions.\n",
    "\n",
    "   ##### Multiprocessing\n",
    "   - Uses processes (each has its own memory space).\n",
    "\n",
    "   - Ideal for CPU-bound tasks (e.g., mathematical computations, data processing).\n",
    "\n",
    "   - Bypasses the GIL since each process runs in its own Python interpreter.\n",
    "\n",
    "   - Processes do not share memory, so communication requires mechanisms like multiprocessing.Queue or multiprocessing.Pipe."
   ]
  },
  {
   "cell_type": "markdown",
   "id": "3f216b8b-77ae-4a44-b10f-96082c935d7c",
   "metadata": {},
   "source": [
    "10. #### What are the advantages of using logging in a program?\n",
    "    ##### The advantages of using logging in a program include:\n",
    "\n",
    "    - Simplifies Debugging: Helps identify issues by providing detailed information about program execution.\n",
    "\n",
    "    - Improves Monitoring: Tracks events and performance for better insight into application behavior.\n",
    "\n",
    "    - Flexibility: Allows adjustable log levels (e.g., DEBUG, INFO, WARNING) for tailored information.\n",
    "\n",
    "    - Resource Management: Supports saving logs to files or external systems for later analysis.\n",
    "\n",
    "    - Enhanced Reliability: Maintains a record of errors and warnings, aiding in troubleshooting and improving stability."
   ]
  },
  {
   "cell_type": "markdown",
   "id": "f296fba5-ee6f-4261-8475-6ecc0a766be9",
   "metadata": {},
   "source": [
    "11. #### What is memory management in Python?\n",
    "    - Memory management in Python refers to the process of efficiently allocating, using, and freeing memory during program execution. Python handles         memory management automatically through its built-in memory manager and garbage collector, making it easier for developers to focus on coding           rather than memory-related details.\n",
    "    ### Key Features of Memory Management in Python:\n",
    "    #### Automatic Memory Allocation:\n",
    "    - Python allocates memory for variables and objects dynamically as needed.\n",
    "\n",
    "    #### Garbage Collection:\n",
    "    - Unused objects are automatically cleaned up to free memory, reducing memory leaks.\n",
    "\n",
    "    #### Reference Counting:\n",
    "    - Python tracks the number of references to an object and deallocates it when the reference count drops to zero.\n",
    "\n",
    "    #### Dynamic Typing:\n",
    "    - Memory requirements are determined at runtime, making Python highly flexible.\n",
    "\n",
    "    #### Efficient Use of Memory Pools:\n",
    "    - Python reuses memory spaces through memory pooling, improving performance for frequently-used objects."
   ]
  },
  {
   "cell_type": "markdown",
   "id": "922bb362-a1be-4bef-846a-b8643c7bf165",
   "metadata": {},
   "source": [
    "12. #### What are the basic steps involved in exception handling in Python?\n",
    "    ##### The basic steps involved in exception handling in Python are:\n",
    "\n",
    "    ##### Wrap Code in a try Block:\n",
    "    - Place the code that might raise an exception inside a try block.\n",
    "\n",
    "    ##### Handle Exceptions with except:\n",
    "    - Define one or more except blocks to specify how to handle particular exceptions.\n",
    "\n",
    "    ##### Use an else Block (Optional):\n",
    "    - Execute code in an else block if no exceptions occur in the try block.\n",
    "\n",
    "    ##### Include a finally Block (Optional):\n",
    "    - Use a finally block to execute cleanup actions, regardless of whether an exception was raised."
   ]
  },
  {
   "cell_type": "markdown",
   "id": "466f32df-dd11-4b60-b209-74bbe0760852",
   "metadata": {},
   "source": [
    "13. #### Why is memory management important in Python?\n",
    "    - Memory management is crucial in Python because it ensures efficient use of system resources, maintains program stability, and prevents memory leaks. Proper memory handling allows Python programs to run smoothly, especially when dealing with complex applications or large datasets. By automating tasks like allocation and cleanup, Python's memory manager optimizes performance, reduces developer workload, and supports scalability. It plays a vital role in balancing usability and efficiency in Python applications."
   ]
  },
  {
   "cell_type": "markdown",
   "id": "22a357e3-59f3-4f4d-a26d-0c9b957f8dcf",
   "metadata": {},
   "source": [
    "14. #### What is the role of try and except in exception handling?\n",
    "    - In Python, try and except are the core components of exception handling:\n",
    "\n",
    "    ##### try Block:\n",
    "    - It contains the code that might raise an exception. If an exception occurs within this block, Python stops execution here and moves to the              corresponding except block.\n",
    "\n",
    "    ##### except Block:\n",
    "    It defines how to handle specific exceptions. If an error occurs in the try block, this block provides a way to recover or respond gracefully."
   ]
  },
  {
   "cell_type": "markdown",
   "id": "ce489bbd-40da-4276-a31a-2272345a6906",
   "metadata": {},
   "source": [
    "15. ####  How does Python's garbage collection system work?\n",
    "    - Python's garbage collection system automatically manages memory by reclaiming unused or unreferenced objects to free up space for new                   allocations. It works as follows:\n",
    "\n",
    "    ##### Reference Counting:\n",
    "    - Python tracks the number of references to each object. When an object's reference count drops to zero, it means no part of the program is using         it, and the memory is freed.\n",
    "\n",
    "    ##### Garbage Collector:\n",
    "    - Python has a built-in garbage collector that handles cyclic references (objects referencing each other). It identifies and collects these objects       even when their reference count is non-zero.\n",
    "\n",
    "    ##### Generational Collection:\n",
    "    - Python organizes objects into three generations (young, middle-aged, old) to optimize performance. Frequently used objects stay in older generations, while less-used ones are collected more often in younger generations."
   ]
  },
  {
   "cell_type": "markdown",
   "id": "65fcde9a-4b03-45b7-aedd-3ea81f4bc7a2",
   "metadata": {},
   "source": [
    "16. ####  What is the purpose of the else block in exception handling?\n",
    "    - The else block in exception handling is used to define code that should run only if no exceptions are raised in the try block. It allows you to separate successful execution logic from error-handling logic, making the code cleaner and more organized."
   ]
  },
  {
   "cell_type": "markdown",
   "id": "193845bb-0359-443a-ad40-3fab3da8cd9b",
   "metadata": {},
   "source": [
    "17. #### What are the common logging levels in Python?\n",
    "    - Python's logging module provides the following common logging levels, each serving a specific purpose:\n",
    "\n",
    "    ##### DEBUG:\n",
    "    - Detailed information, used for diagnosing issues during development.\n",
    "\n",
    "    ##### INFO:\n",
    "    - Confirmation that things are working as expected.\n",
    "\n",
    "    ##### WARNING:\n",
    "    - Indicates something unexpected or concerning, but not an error.\n",
    "\n",
    "    ##### ERROR:\n",
    "    - Reports a serious issue that has caused a problem in the program.\n",
    "\n",
    "    ##### CRITICAL:\n",
    "    - Represents very severe problems that might force the program to stop."
   ]
  },
  {
   "cell_type": "markdown",
   "id": "f0540a57-cc40-4002-a0dc-fba378d0a2cd",
   "metadata": {},
   "source": [
    "18. #### What is the difference between os.fork() and multiprocessing in Python?\n",
    "    - The difference between os.fork() and the multiprocessing module in Python lies in their approach and use cases for creating child processes:\n",
    "\n",
    "    ##### os.fork():\n",
    "\n",
    "    - Creates a new process (child) by duplicating the current process.\n",
    "\n",
    "    - It is low-level and specific to Unix-based systems (not available on Windows).\n",
    "\n",
    "    - The developer must handle process management manually.\n",
    "\n",
    "    - Best suited for simple forking tasks or when working directly with the process lifecycle.\n",
    "\n",
    "    ##### multiprocessing Module:\n",
    "\n",
    "    - A higher-level module for creating and managing processes.\n",
    "\n",
    "    - Cross-platform (works on both Unix and Windows).\n",
    "\n",
    "    - Provides features like process pools, inter-process communication, and shared memory.\n",
    "\n",
    "    - Recommended for parallel computing or complex multiprocessing needs."
   ]
  },
  {
   "cell_type": "markdown",
   "id": "9ebfdc59-2b28-4bf7-b377-b17b87906225",
   "metadata": {},
   "source": [
    "19. #### What is the importance of closing a file in Python?\n",
    "    - Closing a file in Python is essential because:\n",
    "\n",
    "    ##### Releases Resources:\n",
    "    - It frees up system resources, such as memory, that are tied to the open file.\n",
    "\n",
    "    ##### Writes Changes:\n",
    "    - Ensures any data buffered during writing is properly saved to the file.\n",
    "\n",
    "    ##### Prevents Errors:\n",
    "    - Reduces the risk of file corruption or data loss.\n",
    "\n",
    "    ##### Allows Reuse:\n",
    "    - Makes the file accessible to other parts of the program or other processes."
   ]
  },
  {
   "cell_type": "markdown",
   "id": "dea19f23-713f-482d-99f2-7b11bcc88154",
   "metadata": {},
   "source": [
    "20. #### What is the difference between file.read() and file.readline() in Python?\n",
    "    - The key difference between file.read() and file.readline() in Python lies in the amount of data they retrieve:\n",
    "\n",
    "    ##### file.read(): Reads the entire content of the file (or a specified number of bytes) as a single string.\n",
    "\n",
    "    - Suitable for processing all file data at once.\n",
    "\n",
    "    ##### file.readline(): Reads just one line of the file at a time, stopping at the newline character.\n",
    "\n",
    "    - Ideal for processing files line by line."
   ]
  },
  {
   "cell_type": "markdown",
   "id": "4a1c7caa-9dd1-414f-a509-07dda1a55dd6",
   "metadata": {},
   "source": [
    "21. #### What is the logging module in Python used for?\n",
    "    - The logging module in Python is used for tracking events during program execution. It helps developers record messages like debug information, warnings, errors, or critical issues in a systematic way. These logs assist in debugging, monitoring application behavior, and troubleshooting problems efficiently. It offers different logging levels (e.g., DEBUG, INFO, WARNING, ERROR, CRITICAL) and allows logs to be directed to various outputs such as the console or files."
   ]
  },
  {
   "cell_type": "markdown",
   "id": "839b43a4-b9a5-44be-b457-cac444eb2f6d",
   "metadata": {},
   "source": [
    "22. #### What is the os module in Python used for in file handling?\n",
    "    - The os module in Python is used for interacting with the operating system, and it provides a range of functions for file handling. Specifically,        it allows you to:\n",
    "\n",
    "    ##### File Manipulation:\n",
    "    - Perform actions like creating, deleting, or renaming files using functions such as os.rename() and os.remove().\n",
    "\n",
    "    ##### Directory Management:\n",
    "    - Work with directories by creating, removing, or navigating them using functions like os.mkdir(), os.rmdir(), and os.chdir().\n",
    "\n",
    "    ##### Path Handling:\n",
    "    - Manage file paths effectively with functions like os.path.join() and os.path.abspath().\n",
    "\n",
    "    ##### Check File/Directory Properties:\n",
    "    - Validate existence, permissions, or type using methods like os.path.exists() and os.path.isfile()."
   ]
  },
  {
   "cell_type": "markdown",
   "id": "c485b0c1-fbbb-4e51-bc54-b28093d592fc",
   "metadata": {},
   "source": [
    "23. #### What are the challenges associated with memory management in Python?\n",
    "    - Memory management in Python, while automated, faces certain challenges:\n",
    "\n",
    "    ##### Circular References:\n",
    "    - Objects that reference each other can complicate garbage collection and delay memory release.\n",
    "\n",
    "    ##### Memory Leaks:\n",
    "    - Improper management of external resources, like open files, can result in memory not being freed.\n",
    "\n",
    "    ##### Fragmentation:\n",
    "    - Dynamic memory allocation can lead to fragmentation, reducing memory efficiency.\n",
    "\n",
    "    ##### High Overhead:\n",
    "    - Python's flexibility (like dynamic typing) and abstraction layers come at the cost of additional memory usage.\n",
    "\n",
    "    ##### Large Data Handling:\n",
    "    - Managing memory effectively for large datasets or intensive computations can be difficult without optimization.\n",
    "\n",
    " Understanding and addressing these challenges ensures efficient resource utilization and improves program performance. Let me know if you’d like tips on optimizing memory usage in Python!"
   ]
  },
  {
   "cell_type": "markdown",
   "id": "2699e632-aaa3-4a63-81d1-22fd9331639b",
   "metadata": {},
   "source": [
    "24. #### How do you raise an exception manually in Python?\n",
    "    - To raise an exception manually in Python, you use the raise keyword followed by the exception you want to trigger. You can also include an optional message to describe the error.\n",
    "    - raise ValueError(\"This is a custom error message.\")\n",
    "    - In this example, a ValueError is raised with the specified message. You can use any built-in or custom exception class when raising exceptions manually. This is useful for enforcing specific conditions or handling errors in your code logic."
   ]
  },
  {
   "cell_type": "markdown",
   "id": "ffa2229c-b3ec-457f-ae11-9a8827ad7c26",
   "metadata": {},
   "source": [
    "25. #### Why is it important to use multithreading in certain applications?\n",
    "    - Multithreading is important in certain applications because it allows tasks to run concurrently, improving performance and efficiency. Key              benefits include:\n",
    "\n",
    "    ##### Enhanced Performance:\n",
    "    - Makes better use of CPU resources by running multiple threads simultaneously.\n",
    "\n",
    "    ##### Responsive Applications:\n",
    "    - Keeps programs responsive by handling time-consuming tasks (e.g., I/O operations) in background threads.\n",
    "\n",
    "    ##### Parallel Processing:\n",
    "    - Speeds up tasks that can be divided into smaller independent subtasks.\n",
    "\n",
    "    ##### Efficient Resource Usage:\n",
    "    - Shares memory and resources between threads, reducing overhead compared to creating separate processes.\n",
    "\n",
    "It is particularly useful in applications like web servers, real-time systems, and GUI applications that require both speed and responsiveness."
   ]
  },
  {
   "cell_type": "markdown",
   "id": "83c53256-ef6c-4e37-8c70-86b2ff553ee3",
   "metadata": {},
   "source": [
    "## Practical Questions"
   ]
  },
  {
   "cell_type": "markdown",
   "id": "c8c9eace-b6ec-4e5e-ac4d-decebe418069",
   "metadata": {},
   "source": [
    "1. #### How can you open a file for writing in Python and write a string to it?"
   ]
  },
  {
   "cell_type": "code",
   "execution_count": 1,
   "id": "a1efa2b5-1fa2-44be-8189-34754b3f26c9",
   "metadata": {},
   "outputs": [
    {
     "name": "stdout",
     "output_type": "stream",
     "text": [
      "String written to file successfully!\n"
     ]
    }
   ],
   "source": [
    "#Code \n",
    "\n",
    "# Open a file named \"example.txt\" in write mode\n",
    "with open(\"example.txt\", \"w\") as file:\n",
    "    # Write a string to the file\n",
    "    file.write(\"Hello, world!\")\n",
    "\n",
    "print(\"String written to file successfully!\")\n"
   ]
  },
  {
   "cell_type": "markdown",
   "id": "7891ad69-8aef-4855-a041-9b882200cee3",
   "metadata": {},
   "source": [
    "2. #### Write a Python program to read the contents of a file and print each line?"
   ]
  },
  {
   "cell_type": "code",
   "execution_count": 3,
   "id": "bd510d7b-f930-4caa-bc72-9e781be4a1c6",
   "metadata": {},
   "outputs": [
    {
     "name": "stdout",
     "output_type": "stream",
     "text": [
      "Hello, world!\n"
     ]
    }
   ],
   "source": [
    "# Code\n",
    "\n",
    "# Open the file named \"example.txt\" in read mode\n",
    "with open(\"example.txt\", \"r\") as file:\n",
    "    # Loop through each line in the file\n",
    "    for line in file:\n",
    "        # Print the line\n",
    "        print(line.strip())  # .strip() removes leading/trailing whitespace including newline characters\n"
   ]
  },
  {
   "cell_type": "markdown",
   "id": "71236044-12ed-4ed7-8814-ceba4f2bd6f0",
   "metadata": {},
   "source": [
    "3. #### How would you handle a case where the file doesn't exist while trying to open it for reading?"
   ]
  },
  {
   "cell_type": "code",
   "execution_count": 5,
   "id": "30ad8af2-ce20-475d-84c1-567ac1e9f532",
   "metadata": {},
   "outputs": [
    {
     "name": "stdout",
     "output_type": "stream",
     "text": [
      "Hello, world!\n"
     ]
    }
   ],
   "source": [
    "# Code\n",
    "\n",
    "try:\n",
    "    # Attempt to open the file in read mode\n",
    "    with open(\"example.txt\", \"r\") as file:\n",
    "        for line in file:\n",
    "            print(line.strip())\n",
    "except FileNotFoundError:\n",
    "    # Handle the case where the file is not found\n",
    "    print(\"Error: The file does not exist!\")\n"
   ]
  },
  {
   "cell_type": "markdown",
   "id": "2d785c94-1466-458a-b521-e50f7982d6c3",
   "metadata": {},
   "source": [
    "4. #### Write a Python script that reads from one file and writes its content to another file."
   ]
  },
  {
   "cell_type": "code",
   "execution_count": 7,
   "id": "0305fc84-0698-4591-9128-23d2d94cdceb",
   "metadata": {},
   "outputs": [
    {
     "name": "stdout",
     "output_type": "stream",
     "text": [
      "Error: The file 'source.txt' does not exist!\n"
     ]
    }
   ],
   "source": [
    "# Code\n",
    "\n",
    "# Specify the input and output file names\n",
    "input_file_name = \"source.txt\"\n",
    "output_file_name = \"destination.txt\"\n",
    "\n",
    "try:\n",
    "    # Open the input file in read mode\n",
    "    with open(input_file_name, \"r\") as input_file:\n",
    "        # Open the output file in write mode\n",
    "        with open(output_file_name, \"w\") as output_file:\n",
    "            # Read content from the input file and write it to the output file\n",
    "            for line in input_file:\n",
    "                output_file.write(line)\n",
    "\n",
    "    print(f\"Contents of '{input_file_name}' have been successfully written to '{output_file_name}'.\")\n",
    "except FileNotFoundError:\n",
    "    print(f\"Error: The file '{input_file_name}' does not exist!\")\n",
    "except Exception as e:\n",
    "    print(f\"An unexpected error occurred: {e}\")\n"
   ]
  },
  {
   "cell_type": "markdown",
   "id": "83b85770-f0e6-4398-8ea7-1386a8747560",
   "metadata": {},
   "source": [
    "5. #### How would you catch and handle division by zero error in Python?"
   ]
  },
  {
   "cell_type": "code",
   "execution_count": 8,
   "id": "d96dc889-01dd-47bc-899f-49503cdca745",
   "metadata": {},
   "outputs": [
    {
     "name": "stdout",
     "output_type": "stream",
     "text": [
      "Error: Division by zero is not allowed!\n"
     ]
    }
   ],
   "source": [
    "# Code\n",
    "\n",
    "try:\n",
    "    # Attempt division\n",
    "    numerator = 10\n",
    "    denominator = 0  # Set to 0 to trigger the error\n",
    "    result = numerator / denominator\n",
    "    print(f\"The result is {result}\")\n",
    "except ZeroDivisionError:\n",
    "    # Handle division by zero\n",
    "    print(\"Error: Division by zero is not allowed!\")\n"
   ]
  },
  {
   "cell_type": "markdown",
   "id": "2361cc18-4725-410d-8d00-ac8d9601fecc",
   "metadata": {},
   "source": [
    "6. #### Write a Python program that logs an error message to a log file when a division by zero exception occurs."
   ]
  },
  {
   "cell_type": "code",
   "execution_count": 9,
   "id": "4b9cac57-123d-4dd6-828e-57960f055d0b",
   "metadata": {},
   "outputs": [
    {
     "name": "stdout",
     "output_type": "stream",
     "text": [
      "Error: Division by zero occurred and has been logged!\n"
     ]
    }
   ],
   "source": [
    "# Code \n",
    "\n",
    "import logging\n",
    "\n",
    "# Configure logging\n",
    "logging.basicConfig(\n",
    "    filename=\"error.log\",  # Log file name\n",
    "    level=logging.ERROR,   # Log level\n",
    "    format=\"%(asctime)s - %(levelname)s - %(message)s\"\n",
    ")\n",
    "\n",
    "try:\n",
    "    # Attempt division\n",
    "    numerator = 10\n",
    "    denominator = 0  # Set to 0 to trigger the error\n",
    "    result = numerator / denominator\n",
    "    print(f\"The result is {result}\")\n",
    "except ZeroDivisionError:\n",
    "    # Log the error to a file\n",
    "    logging.error(\"Attempted division by zero.\")\n",
    "    print(\"Error: Division by zero occurred and has been logged!\")\n"
   ]
  },
  {
   "cell_type": "markdown",
   "id": "79b2c78d-c056-46fc-8445-afc486f01652",
   "metadata": {},
   "source": [
    "7. #### How do you log information at different levels (INFO, ERROR, WARNING) in Python using the logging module?"
   ]
  },
  {
   "cell_type": "code",
   "execution_count": 10,
   "id": "33936981-f87d-49f4-a378-7f35496cfd57",
   "metadata": {},
   "outputs": [],
   "source": [
    "# Code \n",
    "\n",
    "import logging\n",
    "\n",
    "# Configure logging\n",
    "logging.basicConfig(\n",
    "    level=logging.DEBUG,  # Set the minimum log level to DEBUG\n",
    "    format=\"%(asctime)s - %(levelname)s - %(message)s\"\n",
    ")\n",
    "\n",
    "# Log messages at different levels\n",
    "logging.debug(\"This is a DEBUG message.\")\n",
    "logging.info(\"This is an INFO message.\")\n",
    "logging.warning(\"This is a WARNING message.\")\n",
    "logging.error(\"This is an ERROR message.\")\n",
    "logging.critical(\"This is a CRITICAL message.\")\n"
   ]
  },
  {
   "cell_type": "markdown",
   "id": "d07ef3b6-130f-4ead-9606-9b4836ceadb6",
   "metadata": {},
   "source": [
    "8. #### Write a program to handle a file opening error using exception handling."
   ]
  },
  {
   "cell_type": "code",
   "execution_count": 11,
   "id": "a25a56ac-67ac-4263-8c0f-4eeb564754f5",
   "metadata": {},
   "outputs": [
    {
     "name": "stdout",
     "output_type": "stream",
     "text": [
      "Error: The file does not exist! Please check the file name and try again.\n"
     ]
    }
   ],
   "source": [
    "# Code\n",
    "\n",
    "try:\n",
    "    # Attempt to open a file in read mode\n",
    "    with open(\"non_existent_file.txt\", \"r\") as file:\n",
    "        content = file.read()\n",
    "        print(content)\n",
    "except FileNotFoundError:\n",
    "    # Handle the case where the file does not exist\n",
    "    print(\"Error: The file does not exist! Please check the file name and try again.\")\n",
    "except PermissionError:\n",
    "    # Handle the case where there is a permission issue\n",
    "    print(\"Error: You do not have permission to access this file.\")\n",
    "except Exception as e:\n",
    "    # Handle other unexpected errors\n",
    "    print(f\"An unexpected error occurred: {e}\")\n"
   ]
  },
  {
   "cell_type": "markdown",
   "id": "2da867cd-92ff-4fff-924c-2f6cfb6d94c0",
   "metadata": {},
   "source": [
    "9. #### How can you read a file line by line and store its content in a list in Python?"
   ]
  },
  {
   "cell_type": "code",
   "execution_count": 12,
   "id": "b64920f1-7459-4269-924f-77b170ce2daf",
   "metadata": {},
   "outputs": [
    {
     "name": "stdout",
     "output_type": "stream",
     "text": [
      "['Hello, world!']\n"
     ]
    }
   ],
   "source": [
    "# Code\n",
    "\n",
    "# Open the file in read mode\n",
    "with open(\"example.txt\", \"r\") as file:\n",
    "    # Use list comprehension to read and store lines in a list\n",
    "    lines = [line.strip() for line in file]\n",
    "\n",
    "# Print the list of lines\n",
    "print(lines)\n"
   ]
  },
  {
   "cell_type": "markdown",
   "id": "ad5dbffe-50ac-4b91-9fd9-18f07f6e75e5",
   "metadata": {},
   "source": [
    "10. #### How can you append data to an existing file in Python?"
   ]
  },
  {
   "cell_type": "code",
   "execution_count": 13,
   "id": "6aeb0492-5a10-4764-a74c-2d4166490c48",
   "metadata": {},
   "outputs": [],
   "source": [
    "# Code\n",
    "\n",
    "# Open the file in append mode\n",
    "with open(\"example.txt\", \"a\") as file:\n",
    "    # Append a single line of text\n",
    "    file.write(\"This is a new line of text.\\n\")\n",
    "\n",
    "# If you want to append multiple lines\n",
    "lines_to_append = [\"Line 1\", \"Line 2\", \"Line 3\"]\n",
    "with open(\"example.txt\", \"a\") as file:\n",
    "    # Append multiple lines\n",
    "    for line in lines_to_append:\n",
    "        file.write(line + \"\\n\")\n"
   ]
  },
  {
   "cell_type": "markdown",
   "id": "c6867222-70bf-4b09-952f-efecb0a2dccd",
   "metadata": {},
   "source": [
    "11. ####  Write a Python program that uses a try-except block to handle an error when attempting to access a dictionary key that doesn't exist."
   ]
  },
  {
   "cell_type": "code",
   "execution_count": 14,
   "id": "41f0342c-bdb1-4da6-bd47-be81e09dbbb3",
   "metadata": {},
   "outputs": [
    {
     "name": "stdout",
     "output_type": "stream",
     "text": [
      "The value for the key 'name' is: John\n",
      "Sorry, ''grade'' is not a valid key in the dictionary.\n"
     ]
    }
   ],
   "source": [
    "# Code\n",
    "\n",
    "def access_dictionary_key(dictionary, key):\n",
    "    try:\n",
    "        # Attempt to access the key\n",
    "        value = dictionary[key]\n",
    "        print(f\"The value for the key '{key}' is: {value}\")\n",
    "    except KeyError as error_msg:\n",
    "        # Handle the KeyError\n",
    "        print(f\"Sorry, '{error_msg}' is not a valid key in the dictionary.\")\n",
    "\n",
    "# Example dictionary\n",
    "student = {\n",
    "    \"name\": \"John\",\n",
    "    \"course\": \"Python\",\n",
    "    \"age\": 20\n",
    "}\n",
    "\n",
    "# Test with an existing key\n",
    "access_dictionary_key(student, \"name\")\n",
    "\n",
    "# Test with a non-existent key\n",
    "access_dictionary_key(student, \"grade\")\n"
   ]
  },
  {
   "cell_type": "markdown",
   "id": "08e1f749-ccfc-44b8-a480-079259bbd15a",
   "metadata": {},
   "source": [
    "12. #### Write a program that demonstrates using multiple except blocks to handle different types of exceptions."
   ]
  },
  {
   "cell_type": "code",
   "execution_count": 15,
   "id": "2459335c-5c8c-4c3f-847f-de4de2e9c65d",
   "metadata": {},
   "outputs": [
    {
     "name": "stdout",
     "output_type": "stream",
     "text": [
      "The value for key 102 is B+\n",
      "Key 104 not found in dictionary\n",
      "The value for key 102 is B+\n"
     ]
    }
   ],
   "source": [
    "# Code\n",
    "\n",
    "def get_dictionary_value(data_dict, key_input):\n",
    "    try:\n",
    "        # Attempt key conversion and access\n",
    "        key = int(key_input)  # May raise ValueError\n",
    "        value = data_dict[key]  # May raise KeyError\n",
    "        return f\"The value for key {key} is {value}\"\n",
    "    except ValueError:\n",
    "        return f\"Invalid key type: '{key_input}' is not an integer\"\n",
    "    except KeyError:\n",
    "        return f\"Key {key_input} not found in dictionary\"\n",
    "\n",
    "# Example usage\n",
    "student_grades = {\n",
    "    101: 'A',\n",
    "    102: 'B+',\n",
    "    103: 'C'\n",
    "}\n",
    "\n",
    "# Test cases\n",
    "print(get_dictionary_value(student_grades, \"102\"))  # Invalid key type (string)\n",
    "print(get_dictionary_value(student_grades, 104))    # Valid integer but missing key\n",
    "print(get_dictionary_value(student_grades, 102))    # Valid key\n"
   ]
  },
  {
   "cell_type": "markdown",
   "id": "7bfd9170-92fd-45d8-915b-7232dd5a69b5",
   "metadata": {},
   "source": [
    "13. #### How would you check if a file exists before attempting to read it in Python?"
   ]
  },
  {
   "cell_type": "code",
   "execution_count": 16,
   "id": "1ed87e15-a55a-4a36-a012-eff851603e88",
   "metadata": {},
   "outputs": [
    {
     "name": "stdout",
     "output_type": "stream",
     "text": [
      "Hello, world!This is a new line of text.\n",
      "Line 1\n",
      "Line 2\n",
      "Line 3\n",
      "\n"
     ]
    }
   ],
   "source": [
    "# Code\n",
    "\n",
    "import os\n",
    "\n",
    "def check_and_read_file(file_path):\n",
    "    if os.path.exists(file_path):\n",
    "        if os.path.isfile(file_path):  # Ensure it's a file, not a directory\n",
    "            try:\n",
    "                with open(file_path, 'r') as file:\n",
    "                    content = file.read()\n",
    "                    print(content)\n",
    "            except Exception as e:\n",
    "                print(f\"Failed to read the file: {e}\")\n",
    "        else:\n",
    "            print(f\"{file_path} is not a file.\")\n",
    "    else:\n",
    "        print(f\"{file_path} does not exist.\")\n",
    "\n",
    "# Example usage\n",
    "check_and_read_file('example.txt')\n"
   ]
  },
  {
   "cell_type": "markdown",
   "id": "452be611-e6c7-4449-bb60-65e917df6923",
   "metadata": {},
   "source": [
    "14. #### Write a program that uses the logging module to log both informational and error messages."
   ]
  },
  {
   "cell_type": "code",
   "execution_count": 17,
   "id": "d53b45bb-6480-409e-b51d-e0c3a02580e4",
   "metadata": {},
   "outputs": [
    {
     "name": "stderr",
     "output_type": "stream",
     "text": [
      "2025-04-02 21:23:19,985 - __main__ - INFO - Application started successfully.\n",
      "2025-04-02 21:23:19,988 - __main__ - ERROR - An error occurred: division by zero\n",
      "2025-04-02 21:23:19,990 - __main__ - INFO - Application is continuing to run.\n"
     ]
    }
   ],
   "source": [
    "# Code\n",
    "\n",
    "import logging\n",
    "\n",
    "# Create a logger\n",
    "logger = logging.getLogger(__name__)\n",
    "\n",
    "# Set the logging level\n",
    "logger.setLevel(logging.DEBUG)\n",
    "\n",
    "# Create a formatter\n",
    "formatter = logging.Formatter('%(asctime)s - %(name)s - %(levelname)s - %(message)s')\n",
    "\n",
    "# Create a handler for console output\n",
    "console_handler = logging.StreamHandler()\n",
    "console_handler.setFormatter(formatter)\n",
    "console_handler.setLevel(logging.INFO)  # Log info and above to console\n",
    "\n",
    "# Create a handler for file output\n",
    "file_handler = logging.FileHandler('app.log')\n",
    "file_handler.setFormatter(formatter)\n",
    "file_handler.setLevel(logging.DEBUG)  # Log debug and above to file\n",
    "\n",
    "# Add handlers to the logger\n",
    "logger.addHandler(console_handler)\n",
    "logger.addHandler(file_handler)\n",
    "\n",
    "# Log informational message\n",
    "logger.info(\"Application started successfully.\")\n",
    "\n",
    "# Simulate an error\n",
    "try:\n",
    "    # Attempt to divide by zero\n",
    "    result = 10 / 0\n",
    "except ZeroDivisionError as e:\n",
    "    # Log error message\n",
    "    logger.error(f\"An error occurred: {e}\")\n",
    "\n",
    "# Log another informational message\n",
    "logger.info(\"Application is continuing to run.\")\n"
   ]
  },
  {
   "cell_type": "markdown",
   "id": "726fd571-beca-4c72-ab83-a33dc05c2351",
   "metadata": {},
   "source": [
    "15. #### Write a Python program that prints the content of a file and handles the case when the file is empty?"
   ]
  },
  {
   "cell_type": "code",
   "execution_count": 18,
   "id": "5eaca2dc-69f4-418d-b2ef-b6a54f46e977",
   "metadata": {},
   "outputs": [
    {
     "name": "stdout",
     "output_type": "stream",
     "text": [
      "Content of 'example.txt':\n",
      "Hello, world!This is a new line of text.\n",
      "Line 1\n",
      "Line 2\n",
      "Line 3\n",
      "\n"
     ]
    }
   ],
   "source": [
    "# Code\n",
    "\n",
    "def read_and_print_file(file_path):\n",
    "    try:\n",
    "        with open(file_path, 'r') as file:\n",
    "            content = file.read()\n",
    "            if content.strip() == \"\":\n",
    "                print(f\"The file '{file_path}' is empty.\")\n",
    "            else:\n",
    "                print(f\"Content of '{file_path}':\\n{content}\")\n",
    "    except FileNotFoundError:\n",
    "        print(f\"The file '{file_path}' does not exist.\")\n",
    "    except Exception as e:\n",
    "        print(f\"An error occurred: {e}\")\n",
    "\n",
    "# Example usage\n",
    "read_and_print_file('example.txt')\n"
   ]
  },
  {
   "cell_type": "markdown",
   "id": "4d2b5b18-1e4a-4864-a2c4-b67cb29ecabd",
   "metadata": {},
   "source": [
    "16. #### Demonstrate how to use memory profiling to check the memory usage of a small program."
   ]
  },
  {
   "cell_type": "code",
   "execution_count": 26,
   "id": "525f6ae4-f71e-49ad-96c2-9071ed81273f",
   "metadata": {},
   "outputs": [
    {
     "ename": "SyntaxError",
     "evalue": "invalid syntax (334765316.py, line 3)",
     "output_type": "error",
     "traceback": [
      "\u001b[1;36m  Cell \u001b[1;32mIn[26], line 3\u001b[1;36m\u001b[0m\n\u001b[1;33m    pip install memory-profiler matplotlib\u001b[0m\n\u001b[1;37m        ^\u001b[0m\n\u001b[1;31mSyntaxError\u001b[0m\u001b[1;31m:\u001b[0m invalid syntax\n"
     ]
    }
   ],
   "source": [
    "# Code\n",
    "\n",
    "pip install memory-profiler matplotlib\n",
    "\n",
    "python -m memory_profiler memory_demo.py\n",
    "\n",
    "\n",
    "import memory_profiler\n",
    "import random\n",
    "import time\n",
    "\n",
    "@memory_profiler.profile\n",
    "def create_large_list(size):\n",
    "    \"\"\"Creates a list of random integers.\"\"\"\n",
    "    my_list = []\n",
    "    for _ in range(size):\n",
    "        my_list.append(random.randint(0, 100))\n",
    "    return my_list\n",
    "\n",
    "@memory_profiler.profile\n",
    "def process_list(data):\n",
    "    \"\"\"Processes the list by squaring each element.\"\"\"\n",
    "    squared_list = [x**2 for x in data]\n",
    "    time.sleep(1) #simulate some work\n",
    "    return squared_list\n",
    "\n",
    "def main():\n",
    "    list_size = 1000000  # Adjust the size for noticeable memory usage\n",
    "    my_list = create_large_list(list_size)\n",
    "    processed_list = process_list(my_list)\n",
    "    print(f\"List processing complete. Processed list length: {len(processed_list)}\")\n",
    "\n",
    "if __name__ == \"__main__\":\n",
    "    main()\n",
    "\n",
    "\n"
   ]
  },
  {
   "cell_type": "markdown",
   "id": "b8efd88c-0394-4763-b7e0-dffa6854e2f2",
   "metadata": {},
   "source": [
    "17. #### Write a Python program to create and write a list of numbers to a file, one number per line?"
   ]
  },
  {
   "cell_type": "code",
   "execution_count": 27,
   "id": "2170873b-a1e1-4650-a591-d161b461bf91",
   "metadata": {},
   "outputs": [
    {
     "name": "stdout",
     "output_type": "stream",
     "text": [
      "Numbers written to numbers.txt successfully.\n"
     ]
    }
   ],
   "source": [
    "# Code\n",
    "\n",
    "def write_numbers_to_file(file_path, numbers):\n",
    "    try:\n",
    "        with open(file_path, 'w') as file:\n",
    "            for number in numbers:\n",
    "                file.write(f\"{number}\\n\")\n",
    "        print(f\"Numbers written to {file_path} successfully.\")\n",
    "    except Exception as e:\n",
    "        print(f\"An error occurred: {e}\")\n",
    "\n",
    "# Example usage\n",
    "numbers = [1, 2, 3, 4, 5, 6, 7, 8, 9, 10]\n",
    "write_numbers_to_file('numbers.txt', numbers)\n"
   ]
  },
  {
   "cell_type": "markdown",
   "id": "31752a5c-e54f-4ba9-a717-d8a559c0cf1b",
   "metadata": {},
   "source": [
    "18. #### How would you implement a basic logging setup that logs to a file with rotation after 1MB?"
   ]
  },
  {
   "cell_type": "code",
   "execution_count": 29,
   "id": "042c2bb8-26e0-4c63-8a8f-bc08f520df28",
   "metadata": {},
   "outputs": [],
   "source": [
    "# Code\n",
    "\n",
    "import logging\n",
    "from logging.handlers import RotatingFileHandler\n",
    "\n",
    "\n",
    "# Create a logger\n",
    "logger = logging.getLogger('my_app')\n",
    "logger.setLevel(logging.INFO)  # Set the logging level\n",
    "\n",
    "\n",
    "# Define a formatter for log messages\n",
    "formatter = logging.Formatter('%(asctime)s - %(name)s - %(levelname)s - %(message)s')\n",
    "\n",
    "\n",
    "# Create a rotating file handler\n",
    "handler = RotatingFileHandler(\n",
    "    filename='app.log',  # Log file name\n",
    "    maxBytes=1*1024*1024,  # Rotate after 1MB (1,048,576 bytes)\n",
    "    backupCount=5  # Keep up to 5 backup files\n",
    ")\n",
    "handler.setFormatter(formatter)  # Apply the formatter\n",
    "handler.setLevel(logging.INFO)  # Set the handler's level\n",
    "\n",
    "\n",
    "# Add the handler to the logger\n",
    "logger.addHandler(handler)\n",
    "\n",
    "\n",
    "# Log some messages\n",
    "for i in range(1000):\n",
    "    logger.info(f\"This is log message {i}\")\n"
   ]
  },
  {
   "cell_type": "markdown",
   "id": "5427ffd8-363a-4d1a-a4ba-8d9a2a9ef3fc",
   "metadata": {},
   "source": [
    "19. #### Write a program that handles both IndexError and KeyError using a try-except block."
   ]
  },
  {
   "cell_type": "code",
   "execution_count": 30,
   "id": "6a38ab85-5b5b-4559-a4b9-6342c5134344",
   "metadata": {},
   "outputs": [
    {
     "name": "stdout",
     "output_type": "stream",
     "text": [
      "IndexError occurred: list index out of range. The list index is out of range.\n"
     ]
    }
   ],
   "source": [
    "# Code\n",
    "\n",
    "def handle_exceptions():\n",
    "    # Example list and dictionary\n",
    "    my_list = [\"apple\", \"banana\", \"cherry\"]\n",
    "    my_dict = {\"name\": \"John\", \"age\": 30}\n",
    "\n",
    "    # Attempt to access list index and dictionary key\n",
    "    try:\n",
    "        # Accessing a list index that might be out of range\n",
    "        print(my_list[3])  # This should raise an IndexError\n",
    "        \n",
    "        # Accessing a dictionary key that might not exist\n",
    "        print(my_dict[\"city\"])  # This should raise a KeyError\n",
    "    except IndexError as e:\n",
    "        print(f\"IndexError occurred: {e}. The list index is out of range.\")\n",
    "    except KeyError as e:\n",
    "        print(f\"KeyError occurred: {e}. The key does not exist in the dictionary.\")\n",
    "    except Exception as e:\n",
    "        print(f\"An unexpected error occurred: {e}\")\n",
    "\n",
    "# Call the function to test exception handling\n",
    "handle_exceptions()\n"
   ]
  },
  {
   "cell_type": "markdown",
   "id": "e108d3b0-a99c-48e3-bbc5-198fa47d6a3e",
   "metadata": {},
   "source": [
    "20. #### How would you open a file and read its contents using a context manager in Python?"
   ]
  },
  {
   "cell_type": "code",
   "execution_count": 31,
   "id": "2786a983-cbad-4853-a22c-c08faf9c38fc",
   "metadata": {},
   "outputs": [
    {
     "name": "stdout",
     "output_type": "stream",
     "text": [
      "Hello, world!This is a new line of text.\n",
      "Line 1\n",
      "Line 2\n",
      "Line 3\n",
      "\n"
     ]
    }
   ],
   "source": [
    "# Code\n",
    "\n",
    "def read_file_contents(file_path):\n",
    "    try:\n",
    "        with open(file_path, 'r') as file:\n",
    "            # Read the entire file content\n",
    "            content = file.read()\n",
    "            print(content)\n",
    "    except FileNotFoundError:\n",
    "        print(f\"The file '{file_path}' does not exist.\")\n",
    "    except Exception as e:\n",
    "        print(f\"An error occurred: {e}\")\n",
    "\n",
    "# Example usage\n",
    "read_file_contents('example.txt')\n"
   ]
  },
  {
   "cell_type": "markdown",
   "id": "10c6b55c-2e6f-4c6d-ac98-164d08c070e5",
   "metadata": {},
   "source": [
    "21. #### Write a Python program that reads a file and prints the number of occurrences of a specific word."
   ]
  },
  {
   "cell_type": "code",
   "execution_count": 32,
   "id": "9dcdc62e-82ad-4fca-8b97-090191dbd277",
   "metadata": {},
   "outputs": [
    {
     "name": "stdout",
     "output_type": "stream",
     "text": [
      "The word 'apple' occurs 0 times in the file.\n"
     ]
    }
   ],
   "source": [
    "# Code\n",
    "\n",
    "def count_word_occurrences(file_path, target_word):\n",
    "    try:\n",
    "        with open(file_path, 'r') as file:\n",
    "            content = file.read().lower().split()\n",
    "            word_count = content.count(target_word.lower())\n",
    "            print(f\"The word '{target_word}' occurs {word_count} times in the file.\")\n",
    "    except FileNotFoundError:\n",
    "        print(f\"The file '{file_path}' does not exist.\")\n",
    "\n",
    "# Example usage\n",
    "file_path = 'example.txt'\n",
    "target_word = 'apple'\n",
    "count_word_occurrences(file_path, target_word)\n"
   ]
  },
  {
   "cell_type": "markdown",
   "id": "3b49cb7c-a2e1-4667-9d03-9f232d094748",
   "metadata": {},
   "source": [
    "22. #### How can you check if a file is empty before attempting to read its contents?"
   ]
  },
  {
   "cell_type": "code",
   "execution_count": 33,
   "id": "d02221ed-ae13-4964-a2e0-e54d5bd6c401",
   "metadata": {},
   "outputs": [
    {
     "name": "stdout",
     "output_type": "stream",
     "text": [
      "The file 'example.txt' is not empty.\n"
     ]
    }
   ],
   "source": [
    "# Code\n",
    "\n",
    "import os\n",
    "\n",
    "def is_file_empty(file_path):\n",
    "    try:\n",
    "        return os.path.getsize(file_path) == 0\n",
    "    except FileNotFoundError:\n",
    "        print(f\"The file '{file_path}' does not exist.\")\n",
    "        return None\n",
    "\n",
    "# Example usage\n",
    "file_path = 'example.txt'\n",
    "if is_file_empty(file_path):\n",
    "    print(f\"The file '{file_path}' is empty.\")\n",
    "else:\n",
    "    print(f\"The file '{file_path}' is not empty.\")\n"
   ]
  },
  {
   "cell_type": "markdown",
   "id": "ab77d391-d0e6-41fc-b11a-35c17534ccf9",
   "metadata": {},
   "source": [
    "23. #### Write a Python program that writes to a log file when an error occurs during file handling."
   ]
  },
  {
   "cell_type": "code",
   "execution_count": 34,
   "id": "d4ab97c4-bc00-4a5a-a8a8-e250a2342526",
   "metadata": {},
   "outputs": [
    {
     "name": "stdout",
     "output_type": "stream",
     "text": [
      "Hello, world!This is a new line of text.\n",
      "Line 1\n",
      "Line 2\n",
      "Line 3\n",
      "\n"
     ]
    }
   ],
   "source": [
    "# Code\n",
    "\n",
    "import logging\n",
    "\n",
    "# Set up logging configuration\n",
    "logging.basicConfig(\n",
    "    filename='file_handling_errors.log',  # Log file name\n",
    "    level=logging.ERROR,  # Log level\n",
    "    format='%(asctime)s - %(levelname)s - %(message)s'  # Log format\n",
    ")\n",
    "\n",
    "def handle_file(file_path):\n",
    "    try:\n",
    "        with open(file_path, 'r') as file:\n",
    "            content = file.read()\n",
    "            print(content)\n",
    "    except FileNotFoundError as e:\n",
    "        logging.error(f\"File not found: {e}\")\n",
    "    except PermissionError as e:\n",
    "        logging.error(f\"Permission denied: {e}\")\n",
    "    except Exception as e:\n",
    "        logging.error(f\"An unexpected error occurred: {e}\")\n",
    "\n",
    "# Example usage\n",
    "file_path = 'example.txt'\n",
    "handle_file(file_path)\n",
    "\n"
   ]
  },
  {
   "cell_type": "code",
   "execution_count": null,
   "id": "3881764d-6676-4184-945f-500eb0429806",
   "metadata": {},
   "outputs": [],
   "source": []
  }
 ],
 "metadata": {
  "kernelspec": {
   "display_name": "Python 3 (ipykernel)",
   "language": "python",
   "name": "python3"
  },
  "language_info": {
   "codemirror_mode": {
    "name": "ipython",
    "version": 3
   },
   "file_extension": ".py",
   "mimetype": "text/x-python",
   "name": "python",
   "nbconvert_exporter": "python",
   "pygments_lexer": "ipython3",
   "version": "3.12.7"
  }
 },
 "nbformat": 4,
 "nbformat_minor": 5
}
